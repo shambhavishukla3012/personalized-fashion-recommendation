{
 "cells": [
  {
   "cell_type": "code",
   "execution_count": 1,
   "id": "6d426383",
   "metadata": {
    "_cell_guid": "b1076dfc-b9ad-4769-8c92-a6c4dae69d19",
    "_uuid": "8f2839f25d086af736a60e9eeb907d3b93b6e0e5",
    "execution": {
     "iopub.execute_input": "2022-12-01T02:45:50.665536Z",
     "iopub.status.busy": "2022-12-01T02:45:50.665011Z",
     "iopub.status.idle": "2022-12-01T02:45:54.086180Z",
     "shell.execute_reply": "2022-12-01T02:45:54.085204Z"
    },
    "papermill": {
     "duration": 3.430263,
     "end_time": "2022-12-01T02:45:54.088533",
     "exception": false,
     "start_time": "2022-12-01T02:45:50.658270",
     "status": "completed"
    },
    "tags": []
   },
   "outputs": [],
   "source": [
    "## Imports\n",
    "import cudf\n",
    "import pandas as pd\n",
    "import matplotlib.pyplot as plt\n",
    "import matplotlib.image as mpimg\n",
    "from mlxtend.preprocessing import TransactionEncoder\n",
    "from mlxtend.frequent_patterns import apriori, association_rules, fpgrowth"
   ]
  },
  {
   "cell_type": "code",
   "execution_count": 2,
   "id": "46b92795",
   "metadata": {
    "execution": {
     "iopub.execute_input": "2022-12-01T02:45:54.098862Z",
     "iopub.status.busy": "2022-12-01T02:45:54.098024Z",
     "iopub.status.idle": "2022-12-01T02:46:35.669267Z",
     "shell.execute_reply": "2022-12-01T02:46:35.667349Z"
    },
    "papermill": {
     "duration": 41.582893,
     "end_time": "2022-12-01T02:46:35.676092",
     "exception": false,
     "start_time": "2022-12-01T02:45:54.093199",
     "status": "completed"
    },
    "tags": []
   },
   "outputs": [
    {
     "name": "stdout",
     "output_type": "stream",
     "text": [
      "(31788324, 4)\n"
     ]
    },
    {
     "data": {
      "text/html": [
       "<div>\n",
       "<style scoped>\n",
       "    .dataframe tbody tr th:only-of-type {\n",
       "        vertical-align: middle;\n",
       "    }\n",
       "\n",
       "    .dataframe tbody tr th {\n",
       "        vertical-align: top;\n",
       "    }\n",
       "\n",
       "    .dataframe thead th {\n",
       "        text-align: right;\n",
       "    }\n",
       "</style>\n",
       "<table border=\"1\" class=\"dataframe\">\n",
       "  <thead>\n",
       "    <tr style=\"text-align: right;\">\n",
       "      <th></th>\n",
       "      <th>t_dat</th>\n",
       "      <th>customer_id</th>\n",
       "      <th>article_id</th>\n",
       "      <th>price</th>\n",
       "    </tr>\n",
       "  </thead>\n",
       "  <tbody>\n",
       "    <tr>\n",
       "      <th>0</th>\n",
       "      <td>2018-09-20</td>\n",
       "      <td>-6846340800584936</td>\n",
       "      <td>663713001</td>\n",
       "      <td>0.050831</td>\n",
       "    </tr>\n",
       "    <tr>\n",
       "      <th>1</th>\n",
       "      <td>2018-09-20</td>\n",
       "      <td>-6846340800584936</td>\n",
       "      <td>541518023</td>\n",
       "      <td>0.030492</td>\n",
       "    </tr>\n",
       "    <tr>\n",
       "      <th>2</th>\n",
       "      <td>2018-09-20</td>\n",
       "      <td>-8334631767138808638</td>\n",
       "      <td>505221004</td>\n",
       "      <td>0.015237</td>\n",
       "    </tr>\n",
       "    <tr>\n",
       "      <th>3</th>\n",
       "      <td>2018-09-20</td>\n",
       "      <td>-8334631767138808638</td>\n",
       "      <td>685687003</td>\n",
       "      <td>0.016932</td>\n",
       "    </tr>\n",
       "    <tr>\n",
       "      <th>4</th>\n",
       "      <td>2018-09-20</td>\n",
       "      <td>-8334631767138808638</td>\n",
       "      <td>685687004</td>\n",
       "      <td>0.016932</td>\n",
       "    </tr>\n",
       "  </tbody>\n",
       "</table>\n",
       "</div>"
      ],
      "text/plain": [
       "       t_dat          customer_id  article_id     price\n",
       "0 2018-09-20    -6846340800584936   663713001  0.050831\n",
       "1 2018-09-20    -6846340800584936   541518023  0.030492\n",
       "2 2018-09-20 -8334631767138808638   505221004  0.015237\n",
       "3 2018-09-20 -8334631767138808638   685687003  0.016932\n",
       "4 2018-09-20 -8334631767138808638   685687004  0.016932"
      ]
     },
     "execution_count": 2,
     "metadata": {},
     "output_type": "execute_result"
    }
   ],
   "source": [
    "## Read data\n",
    "transcation_data = cudf.read_csv('../input/h-and-m-personalized-fashion-recommendations/transactions_train.csv')\n",
    "transcation_data['customer_id'] = transcation_data['customer_id'].str[-16:].str.hex_to_int().astype('int64')\n",
    "transcation_data['article_id'] = transcation_data.article_id.astype('int32')\n",
    "transcation_data.t_dat = cudf.to_datetime(transcation_data.t_dat)\n",
    "transcation_data = transcation_data[['t_dat','customer_id','article_id', 'price']]\n",
    "print( transcation_data.shape )\n",
    "transcation_data.head()"
   ]
  },
  {
   "cell_type": "code",
   "execution_count": 3,
   "id": "ac023218",
   "metadata": {
    "execution": {
     "iopub.execute_input": "2022-12-01T02:46:35.686219Z",
     "iopub.status.busy": "2022-12-01T02:46:35.685944Z",
     "iopub.status.idle": "2022-12-01T02:46:35.731899Z",
     "shell.execute_reply": "2022-12-01T02:46:35.730664Z"
    },
    "papermill": {
     "duration": 0.053631,
     "end_time": "2022-12-01T02:46:35.734184",
     "exception": false,
     "start_time": "2022-12-01T02:46:35.680553",
     "status": "completed"
    },
    "tags": []
   },
   "outputs": [
    {
     "data": {
      "text/html": [
       "<div>\n",
       "<style scoped>\n",
       "    .dataframe tbody tr th:only-of-type {\n",
       "        vertical-align: middle;\n",
       "    }\n",
       "\n",
       "    .dataframe tbody tr th {\n",
       "        vertical-align: top;\n",
       "    }\n",
       "\n",
       "    .dataframe thead th {\n",
       "        text-align: right;\n",
       "    }\n",
       "</style>\n",
       "<table border=\"1\" class=\"dataframe\">\n",
       "  <thead>\n",
       "    <tr style=\"text-align: right;\">\n",
       "      <th></th>\n",
       "      <th>t_dat</th>\n",
       "      <th>customer_id</th>\n",
       "      <th>article_id</th>\n",
       "      <th>price</th>\n",
       "      <th>year</th>\n",
       "      <th>month</th>\n",
       "      <th>day</th>\n",
       "    </tr>\n",
       "  </thead>\n",
       "  <tbody>\n",
       "    <tr>\n",
       "      <th>0</th>\n",
       "      <td>2018-09-20</td>\n",
       "      <td>-6846340800584936</td>\n",
       "      <td>663713001</td>\n",
       "      <td>0.050831</td>\n",
       "      <td>2018</td>\n",
       "      <td>9</td>\n",
       "      <td>20</td>\n",
       "    </tr>\n",
       "    <tr>\n",
       "      <th>1</th>\n",
       "      <td>2018-09-20</td>\n",
       "      <td>-6846340800584936</td>\n",
       "      <td>541518023</td>\n",
       "      <td>0.030492</td>\n",
       "      <td>2018</td>\n",
       "      <td>9</td>\n",
       "      <td>20</td>\n",
       "    </tr>\n",
       "    <tr>\n",
       "      <th>2</th>\n",
       "      <td>2018-09-20</td>\n",
       "      <td>-8334631767138808638</td>\n",
       "      <td>505221004</td>\n",
       "      <td>0.015237</td>\n",
       "      <td>2018</td>\n",
       "      <td>9</td>\n",
       "      <td>20</td>\n",
       "    </tr>\n",
       "    <tr>\n",
       "      <th>3</th>\n",
       "      <td>2018-09-20</td>\n",
       "      <td>-8334631767138808638</td>\n",
       "      <td>685687003</td>\n",
       "      <td>0.016932</td>\n",
       "      <td>2018</td>\n",
       "      <td>9</td>\n",
       "      <td>20</td>\n",
       "    </tr>\n",
       "    <tr>\n",
       "      <th>4</th>\n",
       "      <td>2018-09-20</td>\n",
       "      <td>-8334631767138808638</td>\n",
       "      <td>685687004</td>\n",
       "      <td>0.016932</td>\n",
       "      <td>2018</td>\n",
       "      <td>9</td>\n",
       "      <td>20</td>\n",
       "    </tr>\n",
       "  </tbody>\n",
       "</table>\n",
       "</div>"
      ],
      "text/plain": [
       "       t_dat          customer_id  article_id     price  year  month  day\n",
       "0 2018-09-20    -6846340800584936   663713001  0.050831  2018      9   20\n",
       "1 2018-09-20    -6846340800584936   541518023  0.030492  2018      9   20\n",
       "2 2018-09-20 -8334631767138808638   505221004  0.015237  2018      9   20\n",
       "3 2018-09-20 -8334631767138808638   685687003  0.016932  2018      9   20\n",
       "4 2018-09-20 -8334631767138808638   685687004  0.016932  2018      9   20"
      ]
     },
     "execution_count": 3,
     "metadata": {},
     "output_type": "execute_result"
    }
   ],
   "source": [
    "## Data preprocess\n",
    "transcation_data.loc[:,'t_dat'] = cudf.to_datetime(transcation_data['t_dat'])\n",
    "transcation_data.loc[:, 'year'] = transcation_data['t_dat'].dt.year\n",
    "transcation_data.loc[:, 'month'] = transcation_data['t_dat'].dt.month\n",
    "transcation_data.loc[:, 'day'] = transcation_data['t_dat'].dt.day\n",
    "transcation_data.head()"
   ]
  },
  {
   "cell_type": "code",
   "execution_count": 4,
   "id": "e50c223e",
   "metadata": {
    "execution": {
     "iopub.execute_input": "2022-12-01T02:46:35.744510Z",
     "iopub.status.busy": "2022-12-01T02:46:35.744249Z",
     "iopub.status.idle": "2022-12-01T02:46:36.509502Z",
     "shell.execute_reply": "2022-12-01T02:46:36.508500Z"
    },
    "papermill": {
     "duration": 0.773077,
     "end_time": "2022-12-01T02:46:36.511914",
     "exception": false,
     "start_time": "2022-12-01T02:46:35.738837",
     "status": "completed"
    },
    "tags": []
   },
   "outputs": [],
   "source": [
    "transcation_data.to_parquet('transcation_data_hm.pqt',index=False)"
   ]
  },
  {
   "cell_type": "code",
   "execution_count": 5,
   "id": "ff47f359",
   "metadata": {
    "execution": {
     "iopub.execute_input": "2022-12-01T02:46:36.522623Z",
     "iopub.status.busy": "2022-12-01T02:46:36.521805Z",
     "iopub.status.idle": "2022-12-01T02:46:38.348009Z",
     "shell.execute_reply": "2022-12-01T02:46:38.346996Z"
    },
    "papermill": {
     "duration": 1.833823,
     "end_time": "2022-12-01T02:46:38.350365",
     "exception": false,
     "start_time": "2022-12-01T02:46:36.516542",
     "status": "completed"
    },
    "tags": []
   },
   "outputs": [],
   "source": [
    "transcation_data = pd.read_parquet(\"./transcation_data_hm.pqt\")"
   ]
  },
  {
   "cell_type": "markdown",
   "id": "1b1f661a",
   "metadata": {
    "papermill": {
     "duration": 0.004033,
     "end_time": "2022-12-01T02:46:38.359100",
     "exception": false,
     "start_time": "2022-12-01T02:46:38.355067",
     "status": "completed"
    },
    "tags": []
   },
   "source": [
    "### Aprori\n",
    "\n",
    "Ref: https://towardsdatascience.com/the-frequently-bought-together-recommendation-system-b4ed076b24e5\n",
    "\n",
    "Lets try and apply the aprori algorithm that tries to generate association rules by pruning itemsets based on their support values, we will use the mlextend library to impliment this."
   ]
  },
  {
   "cell_type": "code",
   "execution_count": 6,
   "id": "cb93e9d3",
   "metadata": {
    "execution": {
     "iopub.execute_input": "2022-12-01T02:46:38.369492Z",
     "iopub.status.busy": "2022-12-01T02:46:38.368677Z",
     "iopub.status.idle": "2022-12-01T02:46:48.431589Z",
     "shell.execute_reply": "2022-12-01T02:46:48.430536Z"
    },
    "papermill": {
     "duration": 10.070525,
     "end_time": "2022-12-01T02:46:48.433950",
     "exception": false,
     "start_time": "2022-12-01T02:46:38.363425",
     "status": "completed"
    },
    "tags": []
   },
   "outputs": [
    {
     "data": {
      "text/html": [
       "<div>\n",
       "<style scoped>\n",
       "    .dataframe tbody tr th:only-of-type {\n",
       "        vertical-align: middle;\n",
       "    }\n",
       "\n",
       "    .dataframe tbody tr th {\n",
       "        vertical-align: top;\n",
       "    }\n",
       "\n",
       "    .dataframe thead th {\n",
       "        text-align: right;\n",
       "    }\n",
       "</style>\n",
       "<table border=\"1\" class=\"dataframe\">\n",
       "  <thead>\n",
       "    <tr style=\"text-align: right;\">\n",
       "      <th></th>\n",
       "      <th>customer_id</th>\n",
       "      <th>article_id</th>\n",
       "    </tr>\n",
       "  </thead>\n",
       "  <tbody>\n",
       "    <tr>\n",
       "      <th>0</th>\n",
       "      <td>-9223343869995384291</td>\n",
       "      <td>[791142001, 821759001]</td>\n",
       "    </tr>\n",
       "    <tr>\n",
       "      <th>1</th>\n",
       "      <td>-9223279922255655589</td>\n",
       "      <td>[573716012, 835348001, 816832010]</td>\n",
       "    </tr>\n",
       "    <tr>\n",
       "      <th>2</th>\n",
       "      <td>-9223251502792607675</td>\n",
       "      <td>[679284001, 861024001, 552716001, 794819001]</td>\n",
       "    </tr>\n",
       "    <tr>\n",
       "      <th>3</th>\n",
       "      <td>-9223020246005719412</td>\n",
       "      <td>[856527001, 798050001]</td>\n",
       "    </tr>\n",
       "    <tr>\n",
       "      <th>4</th>\n",
       "      <td>-9223014153176581410</td>\n",
       "      <td>[201219013, 570004108, 570004112]</td>\n",
       "    </tr>\n",
       "    <tr>\n",
       "      <th>...</th>\n",
       "      <td>...</td>\n",
       "      <td>...</td>\n",
       "    </tr>\n",
       "    <tr>\n",
       "      <th>218756</th>\n",
       "      <td>9222665711703637549</td>\n",
       "      <td>[823165005, 823118004, 868018002, 875350001]</td>\n",
       "    </tr>\n",
       "    <tr>\n",
       "      <th>218757</th>\n",
       "      <td>9222733909628763172</td>\n",
       "      <td>[892910002, 898412001, 832473003]</td>\n",
       "    </tr>\n",
       "    <tr>\n",
       "      <th>218758</th>\n",
       "      <td>9222844312705255886</td>\n",
       "      <td>[832114005, 599580044]</td>\n",
       "    </tr>\n",
       "    <tr>\n",
       "      <th>218759</th>\n",
       "      <td>9222940818992675193</td>\n",
       "      <td>[918292011, 720125007, 720125001, 769748014, 8...</td>\n",
       "    </tr>\n",
       "    <tr>\n",
       "      <th>218760</th>\n",
       "      <td>9223148401910457466</td>\n",
       "      <td>[859101009]</td>\n",
       "    </tr>\n",
       "  </tbody>\n",
       "</table>\n",
       "<p>218761 rows × 2 columns</p>\n",
       "</div>"
      ],
      "text/plain": [
       "                customer_id                                         article_id\n",
       "0      -9223343869995384291                             [791142001, 821759001]\n",
       "1      -9223279922255655589                  [573716012, 835348001, 816832010]\n",
       "2      -9223251502792607675       [679284001, 861024001, 552716001, 794819001]\n",
       "3      -9223020246005719412                             [856527001, 798050001]\n",
       "4      -9223014153176581410                  [201219013, 570004108, 570004112]\n",
       "...                     ...                                                ...\n",
       "218756  9222665711703637549       [823165005, 823118004, 868018002, 875350001]\n",
       "218757  9222733909628763172                  [892910002, 898412001, 832473003]\n",
       "218758  9222844312705255886                             [832114005, 599580044]\n",
       "218759  9222940818992675193  [918292011, 720125007, 720125001, 769748014, 8...\n",
       "218760  9223148401910457466                                        [859101009]\n",
       "\n",
       "[218761 rows x 2 columns]"
      ]
     },
     "execution_count": 6,
     "metadata": {},
     "output_type": "execute_result"
    }
   ],
   "source": [
    "## Generate all article ids purchased by every customer\n",
    "transcations_data_2020 = transcation_data[(transcation_data['year'] == 2020) & (transcation_data['month'] > 6) & (transcation_data['day'] > 20)]\n",
    "transcation_aprori = transcations_data_2020.groupby('customer_id')['article_id'].unique().reset_index()\n",
    "transcation_aprori"
   ]
  },
  {
   "cell_type": "code",
   "execution_count": 7,
   "id": "a64cfa46",
   "metadata": {
    "execution": {
     "iopub.execute_input": "2022-12-01T02:46:48.445273Z",
     "iopub.status.busy": "2022-12-01T02:46:48.444352Z",
     "iopub.status.idle": "2022-12-01T02:46:50.655642Z",
     "shell.execute_reply": "2022-12-01T02:46:50.654568Z"
    },
    "papermill": {
     "duration": 2.219439,
     "end_time": "2022-12-01T02:46:50.658224",
     "exception": false,
     "start_time": "2022-12-01T02:46:48.438785",
     "status": "completed"
    },
    "tags": []
   },
   "outputs": [
    {
     "data": {
      "text/html": [
       "<div>\n",
       "<style scoped>\n",
       "    .dataframe tbody tr th:only-of-type {\n",
       "        vertical-align: middle;\n",
       "    }\n",
       "\n",
       "    .dataframe tbody tr th {\n",
       "        vertical-align: top;\n",
       "    }\n",
       "\n",
       "    .dataframe thead th {\n",
       "        text-align: right;\n",
       "    }\n",
       "</style>\n",
       "<table border=\"1\" class=\"dataframe\">\n",
       "  <thead>\n",
       "    <tr style=\"text-align: right;\">\n",
       "      <th></th>\n",
       "      <th>108775015</th>\n",
       "      <th>108775044</th>\n",
       "      <th>110065002</th>\n",
       "      <th>110065011</th>\n",
       "      <th>111565001</th>\n",
       "      <th>111586001</th>\n",
       "      <th>111593001</th>\n",
       "      <th>111609001</th>\n",
       "      <th>120129001</th>\n",
       "      <th>120129014</th>\n",
       "      <th>...</th>\n",
       "      <th>948152002</th>\n",
       "      <th>949198001</th>\n",
       "      <th>949551001</th>\n",
       "      <th>949551002</th>\n",
       "      <th>949594001</th>\n",
       "      <th>952267001</th>\n",
       "      <th>952938001</th>\n",
       "      <th>953450001</th>\n",
       "      <th>953763001</th>\n",
       "      <th>956217002</th>\n",
       "    </tr>\n",
       "  </thead>\n",
       "  <tbody>\n",
       "    <tr>\n",
       "      <th>0</th>\n",
       "      <td>False</td>\n",
       "      <td>False</td>\n",
       "      <td>False</td>\n",
       "      <td>False</td>\n",
       "      <td>False</td>\n",
       "      <td>False</td>\n",
       "      <td>False</td>\n",
       "      <td>False</td>\n",
       "      <td>False</td>\n",
       "      <td>False</td>\n",
       "      <td>...</td>\n",
       "      <td>False</td>\n",
       "      <td>False</td>\n",
       "      <td>False</td>\n",
       "      <td>False</td>\n",
       "      <td>False</td>\n",
       "      <td>False</td>\n",
       "      <td>False</td>\n",
       "      <td>False</td>\n",
       "      <td>False</td>\n",
       "      <td>False</td>\n",
       "    </tr>\n",
       "    <tr>\n",
       "      <th>1</th>\n",
       "      <td>False</td>\n",
       "      <td>False</td>\n",
       "      <td>False</td>\n",
       "      <td>False</td>\n",
       "      <td>False</td>\n",
       "      <td>False</td>\n",
       "      <td>False</td>\n",
       "      <td>False</td>\n",
       "      <td>False</td>\n",
       "      <td>False</td>\n",
       "      <td>...</td>\n",
       "      <td>False</td>\n",
       "      <td>False</td>\n",
       "      <td>False</td>\n",
       "      <td>False</td>\n",
       "      <td>False</td>\n",
       "      <td>False</td>\n",
       "      <td>False</td>\n",
       "      <td>False</td>\n",
       "      <td>False</td>\n",
       "      <td>False</td>\n",
       "    </tr>\n",
       "    <tr>\n",
       "      <th>2</th>\n",
       "      <td>False</td>\n",
       "      <td>False</td>\n",
       "      <td>False</td>\n",
       "      <td>False</td>\n",
       "      <td>False</td>\n",
       "      <td>False</td>\n",
       "      <td>False</td>\n",
       "      <td>False</td>\n",
       "      <td>False</td>\n",
       "      <td>False</td>\n",
       "      <td>...</td>\n",
       "      <td>False</td>\n",
       "      <td>False</td>\n",
       "      <td>False</td>\n",
       "      <td>False</td>\n",
       "      <td>False</td>\n",
       "      <td>False</td>\n",
       "      <td>False</td>\n",
       "      <td>False</td>\n",
       "      <td>False</td>\n",
       "      <td>False</td>\n",
       "    </tr>\n",
       "    <tr>\n",
       "      <th>3</th>\n",
       "      <td>False</td>\n",
       "      <td>False</td>\n",
       "      <td>False</td>\n",
       "      <td>False</td>\n",
       "      <td>False</td>\n",
       "      <td>False</td>\n",
       "      <td>False</td>\n",
       "      <td>False</td>\n",
       "      <td>False</td>\n",
       "      <td>False</td>\n",
       "      <td>...</td>\n",
       "      <td>False</td>\n",
       "      <td>False</td>\n",
       "      <td>False</td>\n",
       "      <td>False</td>\n",
       "      <td>False</td>\n",
       "      <td>False</td>\n",
       "      <td>False</td>\n",
       "      <td>False</td>\n",
       "      <td>False</td>\n",
       "      <td>False</td>\n",
       "    </tr>\n",
       "    <tr>\n",
       "      <th>4</th>\n",
       "      <td>False</td>\n",
       "      <td>False</td>\n",
       "      <td>False</td>\n",
       "      <td>False</td>\n",
       "      <td>False</td>\n",
       "      <td>False</td>\n",
       "      <td>False</td>\n",
       "      <td>False</td>\n",
       "      <td>False</td>\n",
       "      <td>False</td>\n",
       "      <td>...</td>\n",
       "      <td>False</td>\n",
       "      <td>False</td>\n",
       "      <td>False</td>\n",
       "      <td>False</td>\n",
       "      <td>False</td>\n",
       "      <td>False</td>\n",
       "      <td>False</td>\n",
       "      <td>False</td>\n",
       "      <td>False</td>\n",
       "      <td>False</td>\n",
       "    </tr>\n",
       "  </tbody>\n",
       "</table>\n",
       "<p>5 rows × 31682 columns</p>\n",
       "</div>"
      ],
      "text/plain": [
       "   108775015  108775044  110065002  110065011  111565001  111586001  \\\n",
       "0      False      False      False      False      False      False   \n",
       "1      False      False      False      False      False      False   \n",
       "2      False      False      False      False      False      False   \n",
       "3      False      False      False      False      False      False   \n",
       "4      False      False      False      False      False      False   \n",
       "\n",
       "   111593001  111609001  120129001  120129014  ...  948152002  949198001  \\\n",
       "0      False      False      False      False  ...      False      False   \n",
       "1      False      False      False      False  ...      False      False   \n",
       "2      False      False      False      False  ...      False      False   \n",
       "3      False      False      False      False  ...      False      False   \n",
       "4      False      False      False      False  ...      False      False   \n",
       "\n",
       "   949551001  949551002  949594001  952267001  952938001  953450001  \\\n",
       "0      False      False      False      False      False      False   \n",
       "1      False      False      False      False      False      False   \n",
       "2      False      False      False      False      False      False   \n",
       "3      False      False      False      False      False      False   \n",
       "4      False      False      False      False      False      False   \n",
       "\n",
       "   953763001  956217002  \n",
       "0      False      False  \n",
       "1      False      False  \n",
       "2      False      False  \n",
       "3      False      False  \n",
       "4      False      False  \n",
       "\n",
       "[5 rows x 31682 columns]"
      ]
     },
     "execution_count": 7,
     "metadata": {},
     "output_type": "execute_result"
    }
   ],
   "source": [
    "## Transcation encoder - encode all the order into one hot encoding to feed to the apriori algorithm\n",
    "te = TransactionEncoder()\n",
    "te.fit(transcation_aprori['article_id'])\n",
    "orders_one_hot_encoded = te.transform(transcation_aprori['article_id'])\n",
    "\n",
    "orders_one_hot_encoded = pd.DataFrame(orders_one_hot_encoded, columns =te.columns_)\n",
    "orders_one_hot_encoded.head()"
   ]
  },
  {
   "cell_type": "markdown",
   "id": "481539aa",
   "metadata": {
    "papermill": {
     "duration": 0.004557,
     "end_time": "2022-12-01T02:46:50.668197",
     "exception": false,
     "start_time": "2022-12-01T02:46:50.663640",
     "status": "completed"
    },
    "tags": []
   },
   "source": [
    "### Lets check the itemsets generated and the support value for each itemset"
   ]
  },
  {
   "cell_type": "code",
   "execution_count": 8,
   "id": "56fdc6ad",
   "metadata": {
    "execution": {
     "iopub.execute_input": "2022-12-01T02:46:50.678944Z",
     "iopub.status.busy": "2022-12-01T02:46:50.678397Z",
     "iopub.status.idle": "2022-12-01T02:47:03.184610Z",
     "shell.execute_reply": "2022-12-01T02:47:03.183584Z"
    },
    "papermill": {
     "duration": 12.51393,
     "end_time": "2022-12-01T02:47:03.186806",
     "exception": false,
     "start_time": "2022-12-01T02:46:50.672876",
     "status": "completed"
    },
    "tags": []
   },
   "outputs": [
    {
     "data": {
      "text/html": [
       "<div>\n",
       "<style scoped>\n",
       "    .dataframe tbody tr th:only-of-type {\n",
       "        vertical-align: middle;\n",
       "    }\n",
       "\n",
       "    .dataframe tbody tr th {\n",
       "        vertical-align: top;\n",
       "    }\n",
       "\n",
       "    .dataframe thead th {\n",
       "        text-align: right;\n",
       "    }\n",
       "</style>\n",
       "<table border=\"1\" class=\"dataframe\">\n",
       "  <thead>\n",
       "    <tr style=\"text-align: right;\">\n",
       "      <th></th>\n",
       "      <th>support</th>\n",
       "      <th>itemsets</th>\n",
       "    </tr>\n",
       "  </thead>\n",
       "  <tbody>\n",
       "    <tr>\n",
       "      <th>27</th>\n",
       "      <td>0.003044</td>\n",
       "      <td>(806388002)</td>\n",
       "    </tr>\n",
       "    <tr>\n",
       "      <th>28</th>\n",
       "      <td>0.003067</td>\n",
       "      <td>(817354001)</td>\n",
       "    </tr>\n",
       "    <tr>\n",
       "      <th>4</th>\n",
       "      <td>0.003090</td>\n",
       "      <td>(557599022)</td>\n",
       "    </tr>\n",
       "    <tr>\n",
       "      <th>6</th>\n",
       "      <td>0.003127</td>\n",
       "      <td>(610776001)</td>\n",
       "    </tr>\n",
       "    <tr>\n",
       "      <th>36</th>\n",
       "      <td>0.003204</td>\n",
       "      <td>(895002002)</td>\n",
       "    </tr>\n",
       "    <tr>\n",
       "      <th>22</th>\n",
       "      <td>0.003209</td>\n",
       "      <td>(762846006)</td>\n",
       "    </tr>\n",
       "    <tr>\n",
       "      <th>37</th>\n",
       "      <td>0.003223</td>\n",
       "      <td>(896152002)</td>\n",
       "    </tr>\n",
       "    <tr>\n",
       "      <th>35</th>\n",
       "      <td>0.003236</td>\n",
       "      <td>(884319001)</td>\n",
       "    </tr>\n",
       "    <tr>\n",
       "      <th>23</th>\n",
       "      <td>0.003259</td>\n",
       "      <td>(768912001)</td>\n",
       "    </tr>\n",
       "    <tr>\n",
       "      <th>14</th>\n",
       "      <td>0.003310</td>\n",
       "      <td>(717490008)</td>\n",
       "    </tr>\n",
       "    <tr>\n",
       "      <th>25</th>\n",
       "      <td>0.003319</td>\n",
       "      <td>(791587001)</td>\n",
       "    </tr>\n",
       "    <tr>\n",
       "      <th>10</th>\n",
       "      <td>0.003332</td>\n",
       "      <td>(706016002)</td>\n",
       "    </tr>\n",
       "    <tr>\n",
       "      <th>5</th>\n",
       "      <td>0.003351</td>\n",
       "      <td>(579541001)</td>\n",
       "    </tr>\n",
       "    <tr>\n",
       "      <th>42</th>\n",
       "      <td>0.003355</td>\n",
       "      <td>(915529001)</td>\n",
       "    </tr>\n",
       "    <tr>\n",
       "      <th>26</th>\n",
       "      <td>0.003419</td>\n",
       "      <td>(806388001)</td>\n",
       "    </tr>\n",
       "    <tr>\n",
       "      <th>34</th>\n",
       "      <td>0.003483</td>\n",
       "      <td>(866731001)</td>\n",
       "    </tr>\n",
       "    <tr>\n",
       "      <th>38</th>\n",
       "      <td>0.003515</td>\n",
       "      <td>(896152003)</td>\n",
       "    </tr>\n",
       "    <tr>\n",
       "      <th>13</th>\n",
       "      <td>0.003534</td>\n",
       "      <td>(715624001)</td>\n",
       "    </tr>\n",
       "    <tr>\n",
       "      <th>19</th>\n",
       "      <td>0.003556</td>\n",
       "      <td>(758034001)</td>\n",
       "    </tr>\n",
       "    <tr>\n",
       "      <th>3</th>\n",
       "      <td>0.003625</td>\n",
       "      <td>(464297007)</td>\n",
       "    </tr>\n",
       "    <tr>\n",
       "      <th>39</th>\n",
       "      <td>0.003689</td>\n",
       "      <td>(898694001)</td>\n",
       "    </tr>\n",
       "    <tr>\n",
       "      <th>41</th>\n",
       "      <td>0.003790</td>\n",
       "      <td>(915526002)</td>\n",
       "    </tr>\n",
       "    <tr>\n",
       "      <th>20</th>\n",
       "      <td>0.003835</td>\n",
       "      <td>(759871002)</td>\n",
       "    </tr>\n",
       "    <tr>\n",
       "      <th>32</th>\n",
       "      <td>0.003867</td>\n",
       "      <td>(852584001)</td>\n",
       "    </tr>\n",
       "    <tr>\n",
       "      <th>31</th>\n",
       "      <td>0.003890</td>\n",
       "      <td>(850917001)</td>\n",
       "    </tr>\n",
       "    <tr>\n",
       "      <th>8</th>\n",
       "      <td>0.003904</td>\n",
       "      <td>(678942001)</td>\n",
       "    </tr>\n",
       "    <tr>\n",
       "      <th>2</th>\n",
       "      <td>0.003918</td>\n",
       "      <td>(448509014)</td>\n",
       "    </tr>\n",
       "    <tr>\n",
       "      <th>40</th>\n",
       "      <td>0.004009</td>\n",
       "      <td>(915526001)</td>\n",
       "    </tr>\n",
       "    <tr>\n",
       "      <th>18</th>\n",
       "      <td>0.004027</td>\n",
       "      <td>(751471043)</td>\n",
       "    </tr>\n",
       "    <tr>\n",
       "      <th>24</th>\n",
       "      <td>0.004046</td>\n",
       "      <td>(783346001)</td>\n",
       "    </tr>\n",
       "    <tr>\n",
       "      <th>30</th>\n",
       "      <td>0.004343</td>\n",
       "      <td>(827968004)</td>\n",
       "    </tr>\n",
       "    <tr>\n",
       "      <th>0</th>\n",
       "      <td>0.004466</td>\n",
       "      <td>(372860001)</td>\n",
       "    </tr>\n",
       "    <tr>\n",
       "      <th>7</th>\n",
       "      <td>0.004471</td>\n",
       "      <td>(610776002)</td>\n",
       "    </tr>\n",
       "    <tr>\n",
       "      <th>21</th>\n",
       "      <td>0.004498</td>\n",
       "      <td>(760084003)</td>\n",
       "    </tr>\n",
       "    <tr>\n",
       "      <th>43</th>\n",
       "      <td>0.004507</td>\n",
       "      <td>(915529003)</td>\n",
       "    </tr>\n",
       "    <tr>\n",
       "      <th>12</th>\n",
       "      <td>0.004530</td>\n",
       "      <td>(714790020)</td>\n",
       "    </tr>\n",
       "    <tr>\n",
       "      <th>15</th>\n",
       "      <td>0.004658</td>\n",
       "      <td>(717490064)</td>\n",
       "    </tr>\n",
       "    <tr>\n",
       "      <th>33</th>\n",
       "      <td>0.004672</td>\n",
       "      <td>(863595006)</td>\n",
       "    </tr>\n",
       "    <tr>\n",
       "      <th>45</th>\n",
       "      <td>0.004754</td>\n",
       "      <td>(918292001)</td>\n",
       "    </tr>\n",
       "    <tr>\n",
       "      <th>44</th>\n",
       "      <td>0.004937</td>\n",
       "      <td>(916468003)</td>\n",
       "    </tr>\n",
       "    <tr>\n",
       "      <th>29</th>\n",
       "      <td>0.005339</td>\n",
       "      <td>(827968001)</td>\n",
       "    </tr>\n",
       "    <tr>\n",
       "      <th>1</th>\n",
       "      <td>0.005499</td>\n",
       "      <td>(372860002)</td>\n",
       "    </tr>\n",
       "    <tr>\n",
       "      <th>16</th>\n",
       "      <td>0.005709</td>\n",
       "      <td>(730683050)</td>\n",
       "    </tr>\n",
       "    <tr>\n",
       "      <th>11</th>\n",
       "      <td>0.005709</td>\n",
       "      <td>(706016003)</td>\n",
       "    </tr>\n",
       "    <tr>\n",
       "      <th>9</th>\n",
       "      <td>0.006884</td>\n",
       "      <td>(706016001)</td>\n",
       "    </tr>\n",
       "    <tr>\n",
       "      <th>17</th>\n",
       "      <td>0.007090</td>\n",
       "      <td>(751471001)</td>\n",
       "    </tr>\n",
       "  </tbody>\n",
       "</table>\n",
       "</div>"
      ],
      "text/plain": [
       "     support     itemsets\n",
       "27  0.003044  (806388002)\n",
       "28  0.003067  (817354001)\n",
       "4   0.003090  (557599022)\n",
       "6   0.003127  (610776001)\n",
       "36  0.003204  (895002002)\n",
       "22  0.003209  (762846006)\n",
       "37  0.003223  (896152002)\n",
       "35  0.003236  (884319001)\n",
       "23  0.003259  (768912001)\n",
       "14  0.003310  (717490008)\n",
       "25  0.003319  (791587001)\n",
       "10  0.003332  (706016002)\n",
       "5   0.003351  (579541001)\n",
       "42  0.003355  (915529001)\n",
       "26  0.003419  (806388001)\n",
       "34  0.003483  (866731001)\n",
       "38  0.003515  (896152003)\n",
       "13  0.003534  (715624001)\n",
       "19  0.003556  (758034001)\n",
       "3   0.003625  (464297007)\n",
       "39  0.003689  (898694001)\n",
       "41  0.003790  (915526002)\n",
       "20  0.003835  (759871002)\n",
       "32  0.003867  (852584001)\n",
       "31  0.003890  (850917001)\n",
       "8   0.003904  (678942001)\n",
       "2   0.003918  (448509014)\n",
       "40  0.004009  (915526001)\n",
       "18  0.004027  (751471043)\n",
       "24  0.004046  (783346001)\n",
       "30  0.004343  (827968004)\n",
       "0   0.004466  (372860001)\n",
       "7   0.004471  (610776002)\n",
       "21  0.004498  (760084003)\n",
       "43  0.004507  (915529003)\n",
       "12  0.004530  (714790020)\n",
       "15  0.004658  (717490064)\n",
       "33  0.004672  (863595006)\n",
       "45  0.004754  (918292001)\n",
       "44  0.004937  (916468003)\n",
       "29  0.005339  (827968001)\n",
       "1   0.005499  (372860002)\n",
       "16  0.005709  (730683050)\n",
       "11  0.005709  (706016003)\n",
       "9   0.006884  (706016001)\n",
       "17  0.007090  (751471001)"
      ]
     },
     "execution_count": 8,
     "metadata": {},
     "output_type": "execute_result"
    }
   ],
   "source": [
    "results = apriori(orders_one_hot_encoded, min_support=0.003, max_len=2, use_colnames=True)\n",
    "results.sort_values(by=['support'])"
   ]
  },
  {
   "cell_type": "code",
   "execution_count": 9,
   "id": "89f5e0a7",
   "metadata": {
    "execution": {
     "iopub.execute_input": "2022-12-01T02:47:03.198977Z",
     "iopub.status.busy": "2022-12-01T02:47:03.198684Z",
     "iopub.status.idle": "2022-12-01T02:47:03.212644Z",
     "shell.execute_reply": "2022-12-01T02:47:03.211796Z"
    },
    "papermill": {
     "duration": 0.022382,
     "end_time": "2022-12-01T02:47:03.214639",
     "exception": false,
     "start_time": "2022-12-01T02:47:03.192257",
     "status": "completed"
    },
    "tags": []
   },
   "outputs": [
    {
     "data": {
      "text/html": [
       "<div>\n",
       "<style scoped>\n",
       "    .dataframe tbody tr th:only-of-type {\n",
       "        vertical-align: middle;\n",
       "    }\n",
       "\n",
       "    .dataframe tbody tr th {\n",
       "        vertical-align: top;\n",
       "    }\n",
       "\n",
       "    .dataframe thead th {\n",
       "        text-align: right;\n",
       "    }\n",
       "</style>\n",
       "<table border=\"1\" class=\"dataframe\">\n",
       "  <thead>\n",
       "    <tr style=\"text-align: right;\">\n",
       "      <th></th>\n",
       "      <th>antecedents</th>\n",
       "      <th>consequents</th>\n",
       "      <th>antecedent support</th>\n",
       "      <th>consequent support</th>\n",
       "      <th>support</th>\n",
       "      <th>confidence</th>\n",
       "      <th>lift</th>\n",
       "      <th>leverage</th>\n",
       "      <th>conviction</th>\n",
       "    </tr>\n",
       "  </thead>\n",
       "  <tbody>\n",
       "  </tbody>\n",
       "</table>\n",
       "</div>"
      ],
      "text/plain": [
       "Empty DataFrame\n",
       "Columns: [antecedents, consequents, antecedent support, consequent support, support, confidence, lift, leverage, conviction]\n",
       "Index: []"
      ]
     },
     "execution_count": 9,
     "metadata": {},
     "output_type": "execute_result"
    }
   ],
   "source": [
    "association_rules = association_rules(results, metric=\"lift\")\n",
    "association_rules.head()"
   ]
  },
  {
   "cell_type": "markdown",
   "id": "f180f01a",
   "metadata": {
    "papermill": {
     "duration": 0.004994,
     "end_time": "2022-12-01T02:47:03.224788",
     "exception": false,
     "start_time": "2022-12-01T02:47:03.219794",
     "status": "completed"
    },
    "tags": []
   },
   "source": [
    "Oops we dont see any association rules using aprori might be due to very less support values for each itemset!!"
   ]
  },
  {
   "cell_type": "markdown",
   "id": "16b8d488",
   "metadata": {
    "papermill": {
     "duration": 0.005191,
     "end_time": "2022-12-01T02:47:03.235078",
     "exception": false,
     "start_time": "2022-12-01T02:47:03.229887",
     "status": "completed"
    },
    "tags": []
   },
   "source": [
    "### Lets try and see if FPGrowth algorithm helps us out here??"
   ]
  },
  {
   "cell_type": "code",
   "execution_count": 10,
   "id": "81a1b3b3",
   "metadata": {
    "execution": {
     "iopub.execute_input": "2022-12-01T02:47:03.246494Z",
     "iopub.status.busy": "2022-12-01T02:47:03.246228Z",
     "iopub.status.idle": "2022-12-01T02:47:57.852604Z",
     "shell.execute_reply": "2022-12-01T02:47:57.851606Z"
    },
    "papermill": {
     "duration": 54.618977,
     "end_time": "2022-12-01T02:47:57.859156",
     "exception": false,
     "start_time": "2022-12-01T02:47:03.240179",
     "status": "completed"
    },
    "tags": []
   },
   "outputs": [
    {
     "data": {
      "text/html": [
       "<div>\n",
       "<style scoped>\n",
       "    .dataframe tbody tr th:only-of-type {\n",
       "        vertical-align: middle;\n",
       "    }\n",
       "\n",
       "    .dataframe tbody tr th {\n",
       "        vertical-align: top;\n",
       "    }\n",
       "\n",
       "    .dataframe thead th {\n",
       "        text-align: right;\n",
       "    }\n",
       "</style>\n",
       "<table border=\"1\" class=\"dataframe\">\n",
       "  <thead>\n",
       "    <tr style=\"text-align: right;\">\n",
       "      <th></th>\n",
       "      <th>support</th>\n",
       "      <th>itemsets</th>\n",
       "    </tr>\n",
       "  </thead>\n",
       "  <tbody>\n",
       "  </tbody>\n",
       "</table>\n",
       "</div>"
      ],
      "text/plain": [
       "Empty DataFrame\n",
       "Columns: [support, itemsets]\n",
       "Index: []"
      ]
     },
     "execution_count": 10,
     "metadata": {},
     "output_type": "execute_result"
    }
   ],
   "source": [
    "transcations_data_2020 = transcation_data[(transcation_data['year'] == 2020) & (transcation_data['month'] > 6)]\n",
    "transcation_apri = transcations_data_2020.groupby('customer_id')['article_id'].unique().reset_index()\n",
    "te = TransactionEncoder()\n",
    "te.fit(transcation_apri['article_id'])\n",
    "orders_1hot = te.transform(transcation_apri['article_id'])\n",
    "orders_1hot = pd.DataFrame(orders_1hot, columns =te.columns_)\n",
    "fpgrowth(orders_1hot, min_support=0.6, use_colnames=True)"
   ]
  },
  {
   "cell_type": "markdown",
   "id": "50dce629",
   "metadata": {
    "papermill": {
     "duration": 0.004978,
     "end_time": "2022-12-01T02:47:57.869342",
     "exception": false,
     "start_time": "2022-12-01T02:47:57.864364",
     "status": "completed"
    },
    "tags": []
   },
   "source": [
    "Same results!!"
   ]
  },
  {
   "cell_type": "markdown",
   "id": "0510da68",
   "metadata": {
    "papermill": {
     "duration": 0.004922,
     "end_time": "2022-12-01T02:47:57.879551",
     "exception": false,
     "start_time": "2022-12-01T02:47:57.874629",
     "status": "completed"
    },
    "tags": []
   },
   "source": [
    "### Recommendation 2: combination of items purchased by every customer"
   ]
  },
  {
   "cell_type": "code",
   "execution_count": 11,
   "id": "62e52157",
   "metadata": {
    "execution": {
     "iopub.execute_input": "2022-12-01T02:47:57.891878Z",
     "iopub.status.busy": "2022-12-01T02:47:57.891375Z",
     "iopub.status.idle": "2022-12-01T02:47:57.904957Z",
     "shell.execute_reply": "2022-12-01T02:47:57.904005Z"
    },
    "papermill": {
     "duration": 0.021888,
     "end_time": "2022-12-01T02:47:57.906923",
     "exception": false,
     "start_time": "2022-12-01T02:47:57.885035",
     "status": "completed"
    },
    "tags": []
   },
   "outputs": [
    {
     "data": {
      "text/html": [
       "<div>\n",
       "<style scoped>\n",
       "    .dataframe tbody tr th:only-of-type {\n",
       "        vertical-align: middle;\n",
       "    }\n",
       "\n",
       "    .dataframe tbody tr th {\n",
       "        vertical-align: top;\n",
       "    }\n",
       "\n",
       "    .dataframe thead th {\n",
       "        text-align: right;\n",
       "    }\n",
       "</style>\n",
       "<table border=\"1\" class=\"dataframe\">\n",
       "  <thead>\n",
       "    <tr style=\"text-align: right;\">\n",
       "      <th></th>\n",
       "      <th>customer_id</th>\n",
       "      <th>article_id</th>\n",
       "    </tr>\n",
       "  </thead>\n",
       "  <tbody>\n",
       "    <tr>\n",
       "      <th>0</th>\n",
       "      <td>-9223343869995384291</td>\n",
       "      <td>[791142001, 821759001]</td>\n",
       "    </tr>\n",
       "    <tr>\n",
       "      <th>1</th>\n",
       "      <td>-9223279922255655589</td>\n",
       "      <td>[573716012, 835348001, 816832010]</td>\n",
       "    </tr>\n",
       "    <tr>\n",
       "      <th>2</th>\n",
       "      <td>-9223251502792607675</td>\n",
       "      <td>[679284001, 861024001, 552716001, 794819001]</td>\n",
       "    </tr>\n",
       "    <tr>\n",
       "      <th>3</th>\n",
       "      <td>-9223020246005719412</td>\n",
       "      <td>[856527001, 798050001]</td>\n",
       "    </tr>\n",
       "    <tr>\n",
       "      <th>4</th>\n",
       "      <td>-9223014153176581410</td>\n",
       "      <td>[201219013, 570004108, 570004112]</td>\n",
       "    </tr>\n",
       "    <tr>\n",
       "      <th>...</th>\n",
       "      <td>...</td>\n",
       "      <td>...</td>\n",
       "    </tr>\n",
       "    <tr>\n",
       "      <th>218756</th>\n",
       "      <td>9222665711703637549</td>\n",
       "      <td>[823165005, 823118004, 868018002, 875350001]</td>\n",
       "    </tr>\n",
       "    <tr>\n",
       "      <th>218757</th>\n",
       "      <td>9222733909628763172</td>\n",
       "      <td>[892910002, 898412001, 832473003]</td>\n",
       "    </tr>\n",
       "    <tr>\n",
       "      <th>218758</th>\n",
       "      <td>9222844312705255886</td>\n",
       "      <td>[832114005, 599580044]</td>\n",
       "    </tr>\n",
       "    <tr>\n",
       "      <th>218759</th>\n",
       "      <td>9222940818992675193</td>\n",
       "      <td>[918292011, 720125007, 720125001, 769748014, 8...</td>\n",
       "    </tr>\n",
       "    <tr>\n",
       "      <th>218760</th>\n",
       "      <td>9223148401910457466</td>\n",
       "      <td>[859101009]</td>\n",
       "    </tr>\n",
       "  </tbody>\n",
       "</table>\n",
       "<p>218761 rows × 2 columns</p>\n",
       "</div>"
      ],
      "text/plain": [
       "                customer_id                                         article_id\n",
       "0      -9223343869995384291                             [791142001, 821759001]\n",
       "1      -9223279922255655589                  [573716012, 835348001, 816832010]\n",
       "2      -9223251502792607675       [679284001, 861024001, 552716001, 794819001]\n",
       "3      -9223020246005719412                             [856527001, 798050001]\n",
       "4      -9223014153176581410                  [201219013, 570004108, 570004112]\n",
       "...                     ...                                                ...\n",
       "218756  9222665711703637549       [823165005, 823118004, 868018002, 875350001]\n",
       "218757  9222733909628763172                  [892910002, 898412001, 832473003]\n",
       "218758  9222844312705255886                             [832114005, 599580044]\n",
       "218759  9222940818992675193  [918292011, 720125007, 720125001, 769748014, 8...\n",
       "218760  9223148401910457466                                        [859101009]\n",
       "\n",
       "[218761 rows x 2 columns]"
      ]
     },
     "execution_count": 11,
     "metadata": {},
     "output_type": "execute_result"
    }
   ],
   "source": [
    "transcation_aprori"
   ]
  },
  {
   "cell_type": "markdown",
   "id": "2e0b83da",
   "metadata": {
    "papermill": {
     "duration": 0.00555,
     "end_time": "2022-12-01T02:47:57.918078",
     "exception": false,
     "start_time": "2022-12-01T02:47:57.912528",
     "status": "completed"
    },
    "tags": []
   },
   "source": [
    "### Let visualize some of these recommendations"
   ]
  },
  {
   "cell_type": "code",
   "execution_count": 12,
   "id": "6d3863de",
   "metadata": {
    "execution": {
     "iopub.execute_input": "2022-12-01T02:47:57.931559Z",
     "iopub.status.busy": "2022-12-01T02:47:57.930530Z",
     "iopub.status.idle": "2022-12-01T02:48:01.556160Z",
     "shell.execute_reply": "2022-12-01T02:48:01.555046Z"
    },
    "papermill": {
     "duration": 3.63534,
     "end_time": "2022-12-01T02:48:01.559130",
     "exception": false,
     "start_time": "2022-12-01T02:47:57.923790",
     "status": "completed"
    },
    "tags": []
   },
   "outputs": [],
   "source": [
    "customers_data = cudf.read_csv(\"../input/h-and-m-personalized-fashion-recommendations/customers.csv\")\n",
    "customers_data['customer_id'] = customers_data['customer_id'].str[-16:].str.hex_to_int().astype('int64')\n",
    "articles_data = pd.read_csv(\"../input/h-and-m-personalized-fashion-recommendations/articles.csv\")"
   ]
  },
  {
   "cell_type": "code",
   "execution_count": 13,
   "id": "4643d26a",
   "metadata": {
    "execution": {
     "iopub.execute_input": "2022-12-01T02:48:01.573352Z",
     "iopub.status.busy": "2022-12-01T02:48:01.573017Z",
     "iopub.status.idle": "2022-12-01T02:48:05.796908Z",
     "shell.execute_reply": "2022-12-01T02:48:05.795905Z"
    },
    "papermill": {
     "duration": 4.233423,
     "end_time": "2022-12-01T02:48:05.799176",
     "exception": false,
     "start_time": "2022-12-01T02:48:01.565753",
     "status": "completed"
    },
    "tags": []
   },
   "outputs": [
    {
     "name": "stdout",
     "output_type": "stream",
     "text": [
      "Items that customers buy together\n"
     ]
    },
    {
     "data": {
      "image/png": "[encoded data removed]",
      "text/plain": [
       "<Figure size 432x432 with 2 Axes>"
      ]
     },
     "metadata": {},
     "output_type": "display_data"
    },
    {
     "data": {
      "image/png": "[encoded data removed]",
      "text/plain": [
       "<Figure size 432x432 with 3 Axes>"
      ]
     },
     "metadata": {},
     "output_type": "display_data"
    },
    {
     "data": {
      "image/png": "[encoded data removed]",
      "text/plain": [
       "<Figure size 432x432 with 4 Axes>"
      ]
     },
     "metadata": {},
     "output_type": "display_data"
    },
    {
     "data": {
      "image/png": "[encoded data removed]",
      "text/plain": [
       "<Figure size 432x432 with 2 Axes>"
      ]
     },
     "metadata": {},
     "output_type": "display_data"
    },
    {
     "data": {
      "image/png": "[encoded data removed]",
      "text/plain": [
       "<Figure size 432x432 with 3 Axes>"
      ]
     },
     "metadata": {},
     "output_type": "display_data"
    }
   ],
   "source": [
    "print(\"Items that customers buy together\")\n",
    "for _, data in transcation_aprori.head(5).iterrows():\n",
    "    path = \"../input/h-and-m-personalized-fashion-recommendations/images\"\n",
    "    f, ax = plt.subplots(1, len(data['article_id']), figsize=(6, 6))\n",
    "    for i, article in enumerate(data['article_id']):\n",
    "        file_name = \"0\" + str(article) + \".jpg\"\n",
    "        dir_name = \"0\" + str(article)[:2]\n",
    "        image = mpimg.imread(path + \"/\" + dir_name + \"/\" + file_name)\n",
    "        ax[i].imshow(image)\n",
    "        ax[i].set_xticks([], [])\n",
    "        ax[i].set_yticks([], [])\n",
    "        ax[i].grid(False)\n",
    "    plt.show()"
   ]
  },
  {
   "cell_type": "markdown",
   "id": "b9fcd736",
   "metadata": {},
   "source": [
    "### References\n",
    "\n",
    "- https://towardsdatascience.com/the-frequently-bought-together-recommendation-system-b4ed076b24e5\n",
    "- http://rasbt.github.io/mlxtend/user_guide/frequent_patterns/association_rules/\n",
    "- http://rasbt.github.io/mlxtend/"
   ]
  }
 ],
 "metadata": {
  "kernelspec": {
   "display_name": "Python 3.11.1 64-bit",
   "language": "python",
   "name": "python3"
  },
  "language_info": {
   "codemirror_mode": {
    "name": "ipython",
    "version": 3
   },
   "file_extension": ".py",
   "mimetype": "text/x-python",
   "name": "python",
   "nbconvert_exporter": "python",
   "pygments_lexer": "ipython3",
   "version": "3.11.1"
  },
  "papermill": {
   "default_parameters": {},
   "duration": 145.35939,
   "end_time": "2022-12-01T02:48:07.934260",
   "environment_variables": {},
   "exception": null,
   "input_path": "__notebook__.ipynb",
   "output_path": "__notebook__.ipynb",
   "parameters": {},
   "start_time": "2022-12-01T02:45:42.574870",
   "version": "2.3.4"
  },
  "vscode": {
   "interpreter": {
    "hash": "aee8b7b246df8f9039afb4144a1f6fd8d2ca17a180786b69acc140d282b71a49"
   }
  }
 },
 "nbformat": 4,
 "nbformat_minor": 5
}
